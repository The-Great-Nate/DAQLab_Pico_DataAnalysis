{
 "cells": [
  {
   "cell_type": "markdown",
   "metadata": {},
   "source": [
    "# HDF5 Investigation\n",
    "\n",
    "This was mainly created to experiment with reading `.h5` files. The most insightful finding apart from learning how to use `h5py` was about overhead with resizing the dataset which is what the last cell is concerned with"
   ]
  },
  {
   "cell_type": "code",
   "execution_count": 2,
   "metadata": {},
   "outputs": [],
   "source": [
    "import h5py\n",
    "import matplotlib.pyplot as plt\n",
    "import seaborn as sns\n",
    "import numpy as np\n",
    "import os\n",
    "import pandas as pd\n",
    "from scipy import stats"
   ]
  },
  {
   "cell_type": "code",
   "execution_count": 3,
   "metadata": {},
   "outputs": [
    {
     "name": "stdout",
     "output_type": "stream",
     "text": [
      "temperature, <HDF5 dataset \"temperature\": shape (10000,), type \"<f8\">\n",
      "<class 'str'>, <class 'h5py._hl.dataset.Dataset'>\n",
      "----------------------------\n",
      "timestamp, <HDF5 dataset \"timestamp\": shape (10000,), type \"<i8\">\n",
      "<class 'str'>, <class 'h5py._hl.dataset.Dataset'>\n",
      "----------------------------\n",
      "1434.3737373737374\n"
     ]
    },
    {
     "data": {
      "text/plain": [
       "[<matplotlib.lines.Line2D at 0x1d35ae7f8d0>]"
      ]
     },
     "execution_count": 3,
     "metadata": {},
     "output_type": "execute_result"
    },
    {
     "data": {
      "image/png": "[encoded data removed]",
      "text/plain": [
       "<Figure size 640x480 with 1 Axes>"
      ]
     },
     "metadata": {},
     "output_type": "display_data"
    }
   ],
   "source": [
    "f = h5py.File('../../HDF5_const_size/temp_data_10000_entries_190225_18;06;37.h5','r')\n",
    "wha = f.keys()\n",
    "for key, val in f.items():\n",
    "    print(f\"{key}, {val}\")\n",
    "    print(f\"{type(key)}, {type(val)}\")\n",
    "    print(\"----------------------------\")\n",
    "timestamps = f[\"timestamp\"][:]\n",
    "temperatures = f[\"temperature\"][:]\n",
    "print(np.mean(np.diff(timestamps)))\n",
    "plt.plot(timestamps, temperatures)"
   ]
  },
  {
   "cell_type": "code",
   "execution_count": null,
   "metadata": {},
   "outputs": [
    {
     "data": {
      "text/html": [
       "<div>\n",
       "<style scoped>\n",
       "    .dataframe tbody tr th:only-of-type {\n",
       "        vertical-align: middle;\n",
       "    }\n",
       "\n",
       "    .dataframe tbody tr th {\n",
       "        vertical-align: top;\n",
       "    }\n",
       "\n",
       "    .dataframe thead th {\n",
       "        text-align: right;\n",
       "    }\n",
       "</style>\n",
       "<table border=\"1\" class=\"dataframe\">\n",
       "  <thead>\n",
       "    <tr style=\"text-align: right;\">\n",
       "      <th></th>\n",
       "      <th>Category</th>\n",
       "      <th>Time Difference (µs)</th>\n",
       "    </tr>\n",
       "  </thead>\n",
       "  <tbody>\n",
       "    <tr>\n",
       "      <th>0</th>\n",
       "      <td>const_size</td>\n",
       "      <td>1480033694</td>\n",
       "    </tr>\n",
       "    <tr>\n",
       "      <th>1</th>\n",
       "      <td>const_size</td>\n",
       "      <td>1619</td>\n",
       "    </tr>\n",
       "    <tr>\n",
       "      <th>2</th>\n",
       "      <td>const_size</td>\n",
       "      <td>1625</td>\n",
       "    </tr>\n",
       "    <tr>\n",
       "      <th>3</th>\n",
       "      <td>const_size</td>\n",
       "      <td>1620</td>\n",
       "    </tr>\n",
       "    <tr>\n",
       "      <th>4</th>\n",
       "      <td>const_size</td>\n",
       "      <td>1618</td>\n",
       "    </tr>\n",
       "    <tr>\n",
       "      <th>...</th>\n",
       "      <td>...</td>\n",
       "      <td>...</td>\n",
       "    </tr>\n",
       "    <tr>\n",
       "      <th>2089957</th>\n",
       "      <td>resize</td>\n",
       "      <td>1620</td>\n",
       "    </tr>\n",
       "    <tr>\n",
       "      <th>2089958</th>\n",
       "      <td>resize</td>\n",
       "      <td>1620</td>\n",
       "    </tr>\n",
       "    <tr>\n",
       "      <th>2089959</th>\n",
       "      <td>resize</td>\n",
       "      <td>1626</td>\n",
       "    </tr>\n",
       "    <tr>\n",
       "      <th>2089960</th>\n",
       "      <td>resize</td>\n",
       "      <td>1622</td>\n",
       "    </tr>\n",
       "    <tr>\n",
       "      <th>2089961</th>\n",
       "      <td>resize</td>\n",
       "      <td>1623</td>\n",
       "    </tr>\n",
       "  </tbody>\n",
       "</table>\n",
       "<p>2089962 rows × 2 columns</p>\n",
       "</div>"
      ],
      "text/plain": [
       "           Category  Time Difference (µs)\n",
       "0        const_size            1480033694\n",
       "1        const_size                  1619\n",
       "2        const_size                  1625\n",
       "3        const_size                  1620\n",
       "4        const_size                  1618\n",
       "...             ...                   ...\n",
       "2089957      resize                  1620\n",
       "2089958      resize                  1620\n",
       "2089959      resize                  1626\n",
       "2089960      resize                  1622\n",
       "2089961      resize                  1623\n",
       "\n",
       "[2089962 rows x 2 columns]"
      ]
     },
     "metadata": {},
     "output_type": "display_data"
    },
    {
     "data": {
      "text/plain": [
       "'\\nfor category in df_time_diffs[\"Category\"].unique():\\n    subset = df_time_diffs[df_time_diffs[\"Category\"] == category][\"Time Difference (µs)\"]\\n    print(f\"{category}: Mean = {subset.mean():.2f} ± {stats.sem(subset):.2f} µs\")\\n\\nplt.figure(figsize=(10, 6))\\nsns.histplot(df_time_diffs, x=\"Time Difference (µs)\", hue=\"Category\", bins=30, kde=True, alpha=0.6)\\nplt.title(\"Histogram of Time Difference between Readings\")\\nplt.xlabel(\"Time Difference (µs)\")\\nplt.ylabel(\"Frequency\")\\n\\nplt.tight_layout()\\n'"
      ]
     },
     "execution_count": 4,
     "metadata": {},
     "output_type": "execute_result"
    }
   ],
   "source": [
    "folders = {\n",
    "    \"HDF5_const_size\": \"const_size\",\n",
    "    \"HDF5_resize\": \"resize\"\n",
    "}\n",
    "\n",
    "all_data = []\n",
    "\n",
    "for folder, category in folders.items():\n",
    "    folder_path = f\"../../{folder}\"\n",
    "\n",
    "    for file in os.listdir(folder_path):\n",
    "        if file.endswith(\".h5\"):\n",
    "            filepath = os.path.join(folder_path, file)\n",
    "            with h5py.File(filepath, 'r') as f:\n",
    "                timestamps = f[\"timestamp\"][:]\n",
    "                time_diffs = np.diff(timestamps)\n",
    "                all_data.extend([(category, td) for td in time_diffs]) # Adds list elements to end of this list\n",
    "\n",
    "# I LOVE PANDAS SORRY :)\n",
    "df_time_diffs = pd.DataFrame(all_data, columns=[\"Category\", \"Time Difference (µs)\"])\n",
    "display(df_time_diffs)\n",
    "\n",
    "for category in df_time_diffs[\"Category\"].unique():\n",
    "    subset = df_time_diffs[df_time_diffs[\"Category\"] == category][\"Time Difference (µs)\"]\n",
    "    print(f\"{category}: Mean = {subset.mean():.2f} ± {stats.sem(subset):.2f} µs\")\n",
    "\n",
    "plt.figure(figsize=(10, 6))\n",
    "sns.histplot(df_time_diffs, x=\"Time Difference (µs)\", hue=\"Category\", bins=30, kde=True, alpha=0.6)\n",
    "plt.title(\"Histogram of Time Difference between Readings\")\n",
    "plt.xlabel(\"Time Difference (µs)\")\n",
    "plt.ylabel(\"Frequency\")\n",
    "\n",
    "plt.tight_layout()\n"
   ]
  }
 ],
 "metadata": {
  "kernelspec": {
   "display_name": "base",
   "language": "python",
   "name": "python3"
  },
  "language_info": {
   "codemirror_mode": {
    "name": "ipython",
    "version": 3
   },
   "file_extension": ".py",
   "mimetype": "text/x-python",
   "name": "python",
   "nbconvert_exporter": "python",
   "pygments_lexer": "ipython3",
   "version": "3.11.10"
  }
 },
 "nbformat": 4,
 "nbformat_minor": 2
}
